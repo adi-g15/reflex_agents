{
 "cells": [
  {
   "cell_type": "code",
   "execution_count": 1,
   "id": "166a53c4-5783-4373-8d31-c66577de32a9",
   "metadata": {},
   "outputs": [],
   "source": [
    "import import_ipynb\n"
   ]
  },
  {
   "cell_type": "code",
   "execution_count": 4,
   "id": "4ef14eb2-2ce9-4e12-b37c-af8da8163dad",
   "metadata": {},
   "outputs": [],
   "source": [
    "# 2. WAP to implement a model-based reflex agent for the automatic taxi driver environment.\n",
    "#    Run the environment with this agent for all possible assumptions made by you which makes it model-based.\n"
   ]
  },
  {
   "cell_type": "code",
   "execution_count": 3,
   "id": "fa68c135-f5ac-4b7d-8645-895c35177422",
   "metadata": {},
   "outputs": [],
   "source": [
    "# 3. WAP to implement a goal-based reflex agent for the automatic taxi driver in a road map environment.\n",
    "#    Run the environment with this agent for all possible assumptions made by you which makes it goal-based agent.\n"
   ]
  },
  {
   "cell_type": "code",
   "execution_count": null,
   "id": "34667883-2ba8-44c2-87d6-2e8ac46d2bf4",
   "metadata": {},
   "outputs": [],
   "source": []
  }
 ],
 "metadata": {
  "kernelspec": {
   "display_name": "Python 3 (ipykernel)",
   "language": "python",
   "name": "python3"
  },
  "language_info": {
   "codemirror_mode": {
    "name": "ipython",
    "version": 3
   },
   "file_extension": ".py",
   "mimetype": "text/x-python",
   "name": "python",
   "nbconvert_exporter": "python",
   "pygments_lexer": "ipython3",
   "version": "3.9.6"
  }
 },
 "nbformat": 4,
 "nbformat_minor": 5
}
