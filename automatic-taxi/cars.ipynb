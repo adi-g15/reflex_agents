{
 "cells": [
  {
   "cell_type": "code",
   "execution_count": 1,
   "id": "96db13ce-48a6-4b83-8cbd-246da0bfcde2",
   "metadata": {},
   "outputs": [],
   "source": [
    "class NotSoSmartCar:\n",
    "    is_ai=False\n",
    "    def __init__(self, name=\"\", path_file=\"path.txt\"):  # text file containing pre-defined path for this car\n",
    "        self.name = name\n",
    "        lines = []\n",
    "        with open(path_file) as file:\n",
    "            lines = file.readlines()\n",
    "            \n",
    "        start_loc = lines.pop(0).split(\",\")\n",
    "        self.start_loc = [ int(start_loc[0]), int(start_loc[1]) ]\n",
    "\n",
    "        # Considering y axis positive downwards, and x axis normal (right side is +x)\n",
    "        self.position = self.start_loc\n",
    "        path = [self.start_loc]\n",
    "\n",
    "        y = self.start_loc[0]\n",
    "        x = self.start_loc[1]\n",
    "\n",
    "        # valid path only goes toward +vs axes\n",
    "        dir_vecs = [[1,0],[0,1],[1,1]]\n",
    "        while True:\n",
    "            found_neighbour = False\n",
    "            for d in dir_vecs:\n",
    "                ny = y+d[1]\n",
    "                nx = x+d[0]\n",
    "                if nx >= 0 and ny >= 0 and nx < len(lines[y]) and ny < len(lines):\n",
    "                    if lines[ny][nx] == \"*\":\n",
    "                        x = nx\n",
    "                        y = ny\n",
    "                        found_neighbour = True\n",
    "                        path.append([ny,nx])\n",
    "                        break\n",
    "            if not found_neighbour:\n",
    "                break\n",
    "                \n",
    "        self.path = path\n",
    "        self.path_index = 1  # start from 1st index\n",
    "        self.forward = True  # move forward in path\n",
    "\n",
    "    def move_next(self):\n",
    "        self.position = self.path[ self.path_index ]\n",
    "        print(\"Car\", self.name, \"moved to: \", self.position)\n",
    "\n",
    "        if self.path_index == 0 or self.path_index == len(self.path)-1 :\n",
    "            self.forward = not self.forward\n",
    "\n",
    "        if self.forward:\n",
    "            self.path_index += 1\n",
    "        else:\n",
    "            self.path_index -= 1\n"
   ]
  },
  {
   "cell_type": "code",
   "execution_count": 3,
   "id": "66a0ef56-ba0b-4ead-9f35-078a1f456b38",
   "metadata": {},
   "outputs": [
    {
     "name": "stdout",
     "output_type": "stream",
     "text": [
      "Car moved to:  [2, 1]\n",
      "Car moved to:  [2, 2]\n",
      "Car moved to:  [3, 2]\n",
      "Car moved to:  [4, 2]\n",
      "Car moved to:  [5, 2]\n",
      "Car moved to:  [6, 2]\n",
      "Car moved to:  [7, 2]\n",
      "Car moved to:  [6, 2]\n",
      "Car moved to:  [5, 2]\n",
      "Car moved to:  [4, 2]\n",
      "Car moved to:  [3, 2]\n",
      "Car moved to:  [2, 2]\n",
      "Car moved to:  [2, 1]\n",
      "Car moved to:  [2, 0]\n",
      "Car moved to:  [2, 1]\n",
      "Car moved to:  [2, 2]\n",
      "Car moved to:  [3, 2]\n",
      "Car moved to:  [4, 2]\n"
     ]
    },
    {
     "ename": "KeyboardInterrupt",
     "evalue": "",
     "output_type": "error",
     "traceback": [
      "\u001b[0;31m---------------------------------------------------------------------------\u001b[0m",
      "\u001b[0;31mKeyboardInterrupt\u001b[0m                         Traceback (most recent call last)",
      "\u001b[0;32m/tmp/ipykernel_8163/303389803.py\u001b[0m in \u001b[0;36m<module>\u001b[0;34m\u001b[0m\n\u001b[1;32m      3\u001b[0m     \u001b[0mcar\u001b[0m\u001b[0;34m.\u001b[0m\u001b[0mmove_next\u001b[0m\u001b[0;34m(\u001b[0m\u001b[0;34m)\u001b[0m\u001b[0;34m\u001b[0m\u001b[0;34m\u001b[0m\u001b[0m\n\u001b[1;32m      4\u001b[0m     \u001b[0;32mfrom\u001b[0m \u001b[0mtime\u001b[0m \u001b[0;32mimport\u001b[0m \u001b[0msleep\u001b[0m\u001b[0;34m\u001b[0m\u001b[0;34m\u001b[0m\u001b[0m\n\u001b[0;32m----> 5\u001b[0;31m     \u001b[0msleep\u001b[0m\u001b[0;34m(\u001b[0m\u001b[0;36m1.5\u001b[0m\u001b[0;34m)\u001b[0m\u001b[0;34m\u001b[0m\u001b[0;34m\u001b[0m\u001b[0m\n\u001b[0m",
      "\u001b[0;31mKeyboardInterrupt\u001b[0m: "
     ]
    }
   ],
   "source": [
    "car = NotSoSmartCar(path_file=\"path1.txt\")\n",
    "# while True:\n",
    "#     car.move_next()\n",
    "#     from time import sleep\n",
    "#     sleep(1.5)"
   ]
  },
  {
   "cell_type": "code",
   "execution_count": null,
   "id": "3d9c2218-01e6-4577-8ca9-5e532ca74fb5",
   "metadata": {},
   "outputs": [],
   "source": []
  }
 ],
 "metadata": {
  "kernelspec": {
   "display_name": "Python 3 (ipykernel)",
   "language": "python",
   "name": "python3"
  },
  "language_info": {
   "codemirror_mode": {
    "name": "ipython",
    "version": 3
   },
   "file_extension": ".py",
   "mimetype": "text/x-python",
   "name": "python",
   "nbconvert_exporter": "python",
   "pygments_lexer": "ipython3",
   "version": "3.9.6"
  }
 },
 "nbformat": 4,
 "nbformat_minor": 5
}
