{
 "cells": [
  {
   "cell_type": "code",
   "execution_count": 1,
   "id": "fb4eb8d2-5535-44aa-a296-f4404e3cb550",
   "metadata": {},
   "outputs": [],
   "source": [
    "class AutoTaxi:\n",
    "    is_ai=True\n",
    "\n",
    "    def __init__(self, agent_class, environ, start_loc, end_loc):\n",
    "        self.agent = agent_class(self)\n",
    "        self.environ = environ\n",
    "\n",
    "        # Invariant: x,y is inside environ bounds for both start_loc & end_loc\n",
    "        self.start_loc = start_loc\n",
    "        self.end_loc = end_loc\n",
    "        \n",
    "        self.position = self.start_loc\n",
    "\n",
    "    def move_next(self):\n",
    "        action = self.agent.act( self.environ )\n",
    "        \n",
    "        if action[0] == 0 and action[1] == 0:\n",
    "            print(\"[\", self.agent, \"] Not Moving\")"
   ]
  },
  {
   "cell_type": "code",
   "execution_count": null,
   "id": "2785d270-c200-45fb-9f38-642a5cb19a8d",
   "metadata": {},
   "outputs": [],
   "source": [
    "# Model-based reflex agent\n",
    "class ModelBasedReflexAgent:\n",
    "    def __init__(self,parent_taxi):\n",
    "        self.taxi = parent_taxi\n",
    "\n",
    "    def act(self,percept):\n",
    "        \n",
    "        return [0,0]"
   ]
  },
  {
   "cell_type": "code",
   "execution_count": null,
   "id": "e770769d-394d-4e55-a76c-7a45f46a5fc2",
   "metadata": {},
   "outputs": [],
   "source": [
    "# Goal-based reflex agent\n",
    "class GoalBasedReflexAgent:\n",
    "    def __init__(self,parent_taxi):\n",
    "        self.taxi = parent_taxi\n",
    "\n",
    "    def act(self,percept):\n",
    "        \n",
    "        return [0,0]"
   ]
  }
 ],
 "metadata": {
  "kernelspec": {
   "display_name": "Python 3 (ipykernel)",
   "language": "python",
   "name": "python3"
  },
  "language_info": {
   "codemirror_mode": {
    "name": "ipython",
    "version": 3
   },
   "file_extension": ".py",
   "mimetype": "text/x-python",
   "name": "python",
   "nbconvert_exporter": "python",
   "pygments_lexer": "ipython3",
   "version": "3.9.6"
  }
 },
 "nbformat": 4,
 "nbformat_minor": 5
}
