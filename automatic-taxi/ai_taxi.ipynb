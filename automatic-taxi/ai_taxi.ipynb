{
 "cells": [
  {
   "cell_type": "code",
   "execution_count": 1,
   "id": "fb4eb8d2-5535-44aa-a296-f4404e3cb550",
   "metadata": {},
   "outputs": [],
   "source": [
    "class AutoTaxi:\n",
    "    is_ai=True\n",
    "    position = [4,6]\n",
    "    def move_next():\n",
    "        return self.is_ai"
   ]
  }
 ],
 "metadata": {
  "kernelspec": {
   "display_name": "Python 3 (ipykernel)",
   "language": "python",
   "name": "python3"
  },
  "language_info": {
   "codemirror_mode": {
    "name": "ipython",
    "version": 3
   },
   "file_extension": ".py",
   "mimetype": "text/x-python",
   "name": "python",
   "nbconvert_exporter": "python",
   "pygments_lexer": "ipython3",
   "version": "3.9.6"
  }
 },
 "nbformat": 4,
 "nbformat_minor": 5
}
