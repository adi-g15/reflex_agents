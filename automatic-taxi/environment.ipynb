{
 "cells": [
  {
   "cell_type": "code",
   "execution_count": 2,
   "metadata": {},
   "outputs": [],
   "source": [
    "class Box:\n",
    "    def __init__(self, coord, is_blocked=False):\n",
    "        self.coord = coord\n",
    "        self.is_blocked = is_blocked\n",
    "\n",
    "class Environment:\n",
    "    def __init__(self,environ_file=\"environment.scene\"):\n",
    "        self.matrix = Environment._read_file(environ_file)\n",
    "\n",
    "    def _read_file(filename):\n",
    "        lines = []\n",
    "        with open(filename) as file:\n",
    "            lines = file.readlines()\n",
    "        matrix = []\n",
    "        for i in range(len(lines)):\n",
    "            line_arr = lines[i].strip().split(\",\")\n",
    "            row = []\n",
    "            for j in range(len(line_arr)):\n",
    "                row.append( Box(\n",
    "                    coord=[i,j],\n",
    "                    is_blocked=(line_arr[j] == \"1\")\n",
    "                ))\n",
    "\n",
    "            matrix.append(row)\n",
    "\n",
    "        return matrix\n",
    "    \n",
    "    def _debug_print_state(self, cars_taxis):\n",
    "        print(\"ADI-G15: DONT COPY, if you run this, okay atleast you tried seeing what it does\")\n",
    "        ai_taxis = []\n",
    "        for taxi in cars_taxis:\n",
    "            if taxi.is_ai:\n",
    "                ai_taxis.append( taxi.position )\n",
    "\n",
    "        for i in range(len(self.matrix)):\n",
    "            for j in range(len(self.matrix)):\n",
    "                if self.matrix[i][j].is_blocked:\n",
    "                    if [i,j] in ai_taxis:\n",
    "                        print(\"+\", end=\" \")\n",
    "                    else:\n",
    "                        print(\"*\", end=\" \")\n",
    "                else:\n",
    "                    print(\" \", end=\" \")\n",
    "            print()"
   ]
  },
  {
   "cell_type": "code",
   "execution_count": null,
   "metadata": {},
   "outputs": [],
   "source": []
  }
 ],
 "metadata": {
  "anaconda-cloud": {},
  "kernelspec": {
   "display_name": "Python 3 (ipykernel)",
   "language": "python",
   "name": "python3"
  },
  "language_info": {
   "codemirror_mode": {
    "name": "ipython",
    "version": 3
   },
   "file_extension": ".py",
   "mimetype": "text/x-python",
   "name": "python",
   "nbconvert_exporter": "python",
   "pygments_lexer": "ipython3",
   "version": "3.9.6"
  }
 },
 "nbformat": 4,
 "nbformat_minor": 4
}
