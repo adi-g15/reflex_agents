{
 "cells": [
  {
   "cell_type": "code",
   "execution_count": null,
   "metadata": {},
   "outputs": [],
   "source": [
    "\"\"\"\n",
    "scan_dirty_regions: This function acts as a sensor to sense dirty regions (maybe by vision)\n",
    "\n",
    "@args: vacuum_cleaner - VacuumCleaner object\n",
    "\n",
    "returns a 5*5 matrix of surrounding with itself at center,\n",
    "        each element in matrix is a bool (true if dirty, false if not)\n",
    "\"\"\"\n",
    "class VisualSensor:\n",
    "    # Optionally we can store earlier perceptory data\n",
    "    def scan_dirty_regions(self, vacuum_cleaner):\n",
    "        curr_pos = vacuum_cleaner.get_curr_pos()\n",
    "        environment = vacuum_cleaner.get_environment()\n",
    "\n",
    "        # TODO\n",
    "\n",
    "        return [\n",
    "                [True,False,True,False,True],\n",
    "                [True,False,True,False,True],\n",
    "                [True,False,True,False,True],\n",
    "                [True,False,True,False,True],\n",
    "                [True,False,True,False,True],\n",
    "                ]\n",
    "\n",
    "# Keeps track of position (maybe by maybe something)\n",
    "class PositionSensor:\n",
    "    position = [0,0]\n",
    "\n",
    "    def get_position(self):\n",
    "        print()\n",
    "        # Todo\n",
    "        \n",
    "    # By moving, i am believing that what changes is the 'sense of position', that's why i kept only symbollically the move function inside the sensor class (assume it moves physically), we are in a relative world eitherway\n",
    "    def move(self,direction):\n",
    "        if direction == \"left\":\n",
    "            self.position = [ self.position[0], self.position[1] ]\n"
   ]
  }
 ],
 "metadata": {
  "anaconda-cloud": {},
  "kernelspec": {
   "display_name": "Python 3 (ipykernel)",
   "language": "python",
   "name": "python3"
  },
  "language_info": {
   "codemirror_mode": {
    "name": "ipython",
    "version": 3
   },
   "file_extension": ".py",
   "mimetype": "text/x-python",
   "name": "python",
   "nbconvert_exporter": "python",
   "pygments_lexer": "ipython3",
   "version": "3.9.6"
  }
 },
 "nbformat": 4,
 "nbformat_minor": 4
}
