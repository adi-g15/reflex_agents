{
 "cells": [
  {
   "cell_type": "code",
   "execution_count": 6,
   "id": "b3114ed1-dd2a-4b7a-9476-0bd85c2953d3",
   "metadata": {},
   "outputs": [],
   "source": [
    "import import_ipynb\n",
    "import random\n",
    "import sensors\n",
    "from environment import Environment"
   ]
  },
  {
   "cell_type": "code",
   "execution_count": 5,
   "id": "f0ac04bf-26f6-4a0a-a471-2a408a296b0d",
   "metadata": {},
   "outputs": [],
   "source": [
    "# As per slide 52, it receives the environment, uses simple rules (here random) to chose action (here it is moving to a position)\n",
    "def simple_reflex_agent(environ):\n",
    "    # First it checks which positions dirty\n",
    "    dirty = []\n",
    "    for i in range(len(locations)):\n",
    "        for j in range(len(locations[i])):\n",
    "            if locations[i][j]:\n",
    "                dirty.append([i,j])\n",
    "    \n",
    "    loc = random.choice(dirty)\n",
    "    return [ loc[0] - 2, loc[1] - 2 ]\n",
    "\n",
    "class VacuumCleaner:\n",
    "    def __init__(self):\n",
    "        self.environ = Environment()\n",
    "        self.position_sensor = sensors.PositionSensor()\n",
    "        self.visual_sensor = sensors.VisualSensor()\n",
    "    \n",
    "    def attempt_clean(self):\n",
    "        print(\"Cleaning some location\")\n",
    "        # will always return 5*5 matrix\n",
    "        locations = self.visual_sensor.scan_dirty_regions(self)\n",
    "\n",
    "        # We pass a limited envionment to Reflex agent\n",
    "        move = simple_reflex_agent(locations)\n",
    "\n",
    "        # not logically correct for sensor to do move i think, but for now it will work\n",
    "        self.position_sensor.move(move)\n"
   ]
  },
  {
   "cell_type": "code",
   "execution_count": 4,
   "id": "2dd2b65a-61b1-463b-bc51-b519d25f61a2",
   "metadata": {},
   "outputs": [
    {
     "data": {
      "text/plain": [
       "__main__.VacuumCleaner"
      ]
     },
     "execution_count": 4,
     "metadata": {},
     "output_type": "execute_result"
    }
   ],
   "source": [
    "VacuumCleaner"
   ]
  },
  {
   "cell_type": "code",
   "execution_count": null,
   "id": "e58e0e44-62d1-4d3c-b839-edfe7f6ec372",
   "metadata": {},
   "outputs": [],
   "source": []
  }
 ],
 "metadata": {
  "kernelspec": {
   "display_name": "Python 3 (ipykernel)",
   "language": "python",
   "name": "python3"
  },
  "language_info": {
   "codemirror_mode": {
    "name": "ipython",
    "version": 3
   },
   "file_extension": ".py",
   "mimetype": "text/x-python",
   "name": "python",
   "nbconvert_exporter": "python",
   "pygments_lexer": "ipython3",
   "version": "3.9.6"
  }
 },
 "nbformat": 4,
 "nbformat_minor": 5
}
