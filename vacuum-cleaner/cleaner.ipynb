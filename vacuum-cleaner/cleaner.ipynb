{
 "cells": [
  {
   "cell_type": "code",
   "execution_count": 1,
   "id": "b3114ed1-dd2a-4b7a-9476-0bd85c2953d3",
   "metadata": {},
   "outputs": [
    {
     "name": "stdout",
     "output_type": "stream",
     "text": [
      "importing Jupyter notebook from sensors.ipynb\n",
      "importing Jupyter notebook from environment.ipynb\n",
      "Sofa\n"
     ]
    }
   ],
   "source": [
    "import import_ipynb\n",
    "import random\n",
    "import sensors\n",
    "from environment import Environment"
   ]
  },
  {
   "cell_type": "code",
   "execution_count": 2,
   "id": "f0ac04bf-26f6-4a0a-a471-2a408a296b0d",
   "metadata": {},
   "outputs": [],
   "source": [
    "# As per slide 52, it receives the environment, uses simple rules (here random) to chose action (here it is moving to a position)\n",
    "class simple_reflex_agent:\n",
    "    def act(self,environ):\n",
    "        # First it checks which positions dirty\n",
    "        dirty = []\n",
    "        for i in range(len(environ)):\n",
    "            for j in range(len(environ[i])):\n",
    "                if environ[i][j]:\n",
    "                    dirty.append([i,j])\n",
    "\n",
    "        if len(dirty) == 0:\n",
    "            print(\"No dirt found by sensor (ie. in 2 unit distance)\")\n",
    "            return [0,0]\n",
    "\n",
    "        loc = random.choice(dirty)\n",
    "        \n",
    "        return [ loc[0] - 2, loc[1] - 2 ]\n",
    "\n",
    "class VacuumCleaner:\n",
    "    # Performance score is based on how much dirty region we could detect, no other complexity for now\n",
    "    def __init__(self):\n",
    "        environ = Environment()\n",
    "        # Considering a rectangle we only need TOP-LEFT and BOTTOM-RIGHT to know all corners/edges\n",
    "        tl_corner = [ 0, len(environ.environ)-1 ]\n",
    "        br_corner = [ len(environ.environ[0])-1, 0 ]\n",
    "\n",
    "        self.environ = environ\n",
    "        self.position_sensor = sensors.PositionSensor( tl_corner, br_corner, position=[2,2] )\n",
    "        self.visual_sensor = sensors.VisualSensor()\n",
    "        self.perf = 0\n",
    "        print(\"Initial State: \")\n",
    "        self._debug_print_environ()\n",
    "    \n",
    "    def get_environment(self):\n",
    "        return self.environ\n",
    "    \n",
    "    def get_curr_pos(self):\n",
    "        return self.position_sensor.position;\n",
    "\n",
    "    def attempt_clean(self,agent = simple_reflex_agent()):\n",
    "        # will always return 5*5 matrix\n",
    "        locations = self.visual_sensor.scan_dirty_regions(self)\n",
    "        _perf = 0\n",
    "        for row in locations:\n",
    "            for b in row:\n",
    "                if b:\n",
    "                    _perf += 1\n",
    "\n",
    "        # It simply always increases, but the more dirt it finds, the more quickly it increases.\n",
    "        self.perf += _perf / 25\n",
    "        \n",
    "        # ACTUATOR\n",
    "        # We pass a limited envionment to Reflex agent\n",
    "        move = agent.act(locations)\n",
    "\n",
    "        # not logically correct for sensor to do move i think, but for now it will work\n",
    "        self.position_sensor.move(move)\n",
    "\n",
    "        new_pos = self.get_curr_pos()\n",
    "        if self.environ.environ[ new_pos[0] ][ new_pos[1] ].is_dirty:\n",
    "            print(\"Cleaning: \", new_pos)\n",
    "            self.environ.environ[ new_pos[0] ][ new_pos[1] ].is_dirty = False\n",
    "            self.perf += len(locations)*0.4;  # TODO: perf += dirt_found/total_boxes\n",
    "            self._debug_print_environ()\n",
    "        else:\n",
    "            print(\"Already clean: \", new_pos)\n",
    "\n",
    "    def _debug_print_environ(self):\n",
    "        mat = self.environ.environ\n",
    "        \n",
    "        for i in range(len(mat)):\n",
    "            for j in range(len(mat)):\n",
    "                if mat[i][j].is_dirty:\n",
    "                    print(\"*\", end=\" \")\n",
    "                else:\n",
    "                    print(\" \", end=\" \")\n",
    "            print()"
   ]
  },
  {
   "cell_type": "code",
   "execution_count": 3,
   "id": "2dd2b65a-61b1-463b-bc51-b519d25f61a2",
   "metadata": {},
   "outputs": [
    {
     "data": {
      "text/plain": [
       "__main__.VacuumCleaner"
      ]
     },
     "execution_count": 3,
     "metadata": {},
     "output_type": "execute_result"
    }
   ],
   "source": [
    "VacuumCleaner"
   ]
  },
  {
   "cell_type": "code",
   "execution_count": null,
   "id": "e58e0e44-62d1-4d3c-b839-edfe7f6ec372",
   "metadata": {},
   "outputs": [],
   "source": []
  }
 ],
 "metadata": {
  "kernelspec": {
   "display_name": "Python 3 (ipykernel)",
   "language": "python",
   "name": "python3"
  },
  "language_info": {
   "codemirror_mode": {
    "name": "ipython",
    "version": 3
   },
   "file_extension": ".py",
   "mimetype": "text/x-python",
   "name": "python",
   "nbconvert_exporter": "python",
   "pygments_lexer": "ipython3",
   "version": "3.9.6"
  }
 },
 "nbformat": 4,
 "nbformat_minor": 5
}
