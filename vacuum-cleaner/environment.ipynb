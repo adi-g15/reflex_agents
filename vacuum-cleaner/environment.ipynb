{
 "cells": [
  {
   "cell_type": "code",
   "execution_count": 1,
   "metadata": {},
   "outputs": [],
   "source": [
    "class Box:\n",
    "    def __init__(self, coord, object_type=\"Empty\",neighbours=[],is_dirty=False):\n",
    "        self.type = object_type\n",
    "        self.coord = coord\n",
    "        self.neighbours = neighbours\n",
    "        self.is_dirty = is_dirty\n",
    "\n",
    "class Environment:\n",
    "    def __init__(self,environ_file=\"environment.scene\"):\n",
    "        self.environ = Environment._read_file(environ_file)\n",
    "\n",
    "    def _read_file(filename):\n",
    "        lines = []\n",
    "        with open(filename) as file:\n",
    "            lines = file.readlines()\n",
    "        matrix = []\n",
    "        names = {}\n",
    "        for i in range(len(lines)):\n",
    "            line = lines[i].strip()\n",
    "            if line == \";\":\n",
    "                break\n",
    "            line_arr = line.split(\",\")\n",
    "            row = []\n",
    "            for j in range(0, len(line_arr), 2):\n",
    "                names[line_arr[j]] = line_arr[j]\n",
    "                row.append( Box(\n",
    "                    coord=[i,j],\n",
    "                    object_type=line_arr[j],\n",
    "                    is_dirty=(line_arr[j+1] == \"1\")\n",
    "                ))\n",
    "\n",
    "            matrix.append(row)\n",
    "        for i2 in range(i+1, len(lines)):\n",
    "            line = lines[i2].strip().split(\",\")\n",
    "            names[line[0]] = line[1]\n",
    "\n",
    "        Environment._assign_neighbours_n_names(matrix,names)\n",
    "        \n",
    "        return matrix\n",
    "\n",
    "    def _assign_neighbours_n_names(matrix,names):\n",
    "        # FUTURE: Not assigning neighbours now will get long\n",
    "        for row in matrix:\n",
    "            for box in row:\n",
    "                box.type = names[box.type]\n",
    "\n",
    "environ = Environment()"
   ]
  },
  {
   "cell_type": "code",
   "execution_count": 10,
   "metadata": {},
   "outputs": [
    {
     "name": "stdout",
     "output_type": "stream",
     "text": [
      "Sofa\n"
     ]
    }
   ],
   "source": [
    "print(environ.environ[0][0].type)"
   ]
  },
  {
   "cell_type": "code",
   "execution_count": null,
   "metadata": {},
   "outputs": [],
   "source": []
  }
 ],
 "metadata": {
  "anaconda-cloud": {},
  "kernelspec": {
   "display_name": "Python 3 (ipykernel)",
   "language": "python",
   "name": "python3"
  },
  "language_info": {
   "codemirror_mode": {
    "name": "ipython",
    "version": 3
   },
   "file_extension": ".py",
   "mimetype": "text/x-python",
   "name": "python",
   "nbconvert_exporter": "python",
   "pygments_lexer": "ipython3",
   "version": "3.9.6"
  }
 },
 "nbformat": 4,
 "nbformat_minor": 4
}
